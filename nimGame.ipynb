{
  "nbformat": 4,
  "nbformat_minor": 0,
  "metadata": {
    "colab": {
      "provenance": []
    },
    "kernelspec": {
      "name": "python3",
      "display_name": "Python 3"
    },
    "language_info": {
      "name": "python"
    }
  },
  "cells": [
    {
      "cell_type": "code",
      "execution_count": 7,
      "metadata": {
        "id": "G-ZBfXqzzx6F"
      },
      "outputs": [],
      "source": [
        "import math\n",
        "import random"
      ]
    },
    {
      "cell_type": "code",
      "source": [],
      "metadata": {
        "id": "zUvr203_z30U"
      },
      "execution_count": null,
      "outputs": []
    },
    {
      "cell_type": "code",
      "source": [
        "def std_minimaxs(piles, depth, alpha, beta, maximizing_player):\n",
        "    if depth == 0 or 0 in piles:\n",
        "        return sum(piles)\n",
        "    \n",
        "    if maximizing_player:\n",
        "        max_eval = -math.inf\n",
        "        for i in range(len(piles)):\n",
        "            if piles[i] > 0:\n",
        "                new_piles = piles.copy()\n",
        "                new_piles[i] -= 1\n",
        "                eval = std_minimaxs(new_piles, depth - 1, alpha, beta, False)\n",
        "                print(f'eval in if - {eval}')\n",
        "                max_eval = max(max_eval, eval)\n",
        "                alpha = max(alpha, eval)\n",
        "                if beta <= alpha:\n",
        "                    break\n",
        "        return max_eval\n",
        "    else:\n",
        "        min_eval = math.inf\n",
        "        for i in range(len(piles)):\n",
        "            if piles[i] > 0:\n",
        "                new_piles = piles.copy()\n",
        "                new_piles[i] -= 1\n",
        "                eval = std_minimaxs(new_piles, depth - 1, alpha, beta, True)\n",
        "                print(f'eval in else - {eval}')\n",
        "                min_eval = min(min_eval, eval)\n",
        "                beta = min(beta, eval)\n",
        "                if beta <= alpha:\n",
        "                    break\n",
        "        return min_eval"
      ],
      "metadata": {
        "id": "mNcfUBUs0ODR"
      },
      "execution_count": null,
      "outputs": []
    },
    {
      "cell_type": "code",
      "source": [],
      "metadata": {
        "id": "UN3TQZP70c1r"
      },
      "execution_count": null,
      "outputs": []
    },
    {
      "cell_type": "code",
      "source": [
        "def std_minimax(pos, depth, maximizingPlayer):\n",
        "  if depth == 0 or (pos['red'] == 0 or pos['blue'] == 0):\n",
        "    return pos['red'] ^ pos['blue']\n",
        "  #   return False\n",
        "  if maximizingPlayer:\n",
        "    maxEval = float('-inf')\n",
        "    for child in pos:\n",
        "      eval = std_minimax(child, depth-1, False)\n",
        "      maxEval = max(maxEval, eval)\n",
        "      alpha = max(alpha, beta)\n",
        "      if beta <= alpha:\n",
        "        break\n",
        "    return maxEval\n",
        "  else:\n",
        "    minEval = float('inf')\n",
        "    for child in pos:\n",
        "      eval = std_minimax(child, depth-1, True)\n",
        "      minEval = min(minEval, eval)\n",
        "      alpha = max(alpha, beta)\n",
        "      if beta >= alpha:\n",
        "        break\n",
        "    return minEval"
      ],
      "metadata": {
        "id": "u2hLv_-w0b-h"
      },
      "execution_count": null,
      "outputs": []
    },
    {
      "cell_type": "code",
      "source": [],
      "metadata": {
        "id": "5Fg9mfiF0Ow6"
      },
      "execution_count": null,
      "outputs": []
    },
    {
      "cell_type": "code",
      "source": [
        "def check_game_state(state):\n",
        "  if state['red'] > 0 and state['blue'] > 0:\n",
        "    return True\n",
        "  return False\n",
        "\n",
        "def game_play(nim, num_red, num_blue, marbles):\n",
        "  if marbles == 'R':\n",
        "    if 0 < nim['red'] <= num_red:\n",
        "      nim['red'] -= 1\n",
        "    else:\n",
        "      print(f\"You LOST {player}\")\n",
        "      return False\n",
        "  elif marbles == 'B':\n",
        "    if 0 < nim['blue'] <= num_blue:\n",
        "      nim['blue'] -= 1\n",
        "    else:\n",
        "      return False\n",
        "  return True\n",
        "\n",
        "def red_blue_nim(num_red, num_blue, player, depth=0):\n",
        "  nim = {'red': num_red, 'blue': num_blue}\n",
        "  player_turn = 2\n",
        "  players = ['human', 'computer']\n",
        "  which_player = players[0] if player == 'human' else players[1]\n",
        "  alpha = -math.inf\n",
        "  beta = math.inf\n",
        "  if player == which_player:\n",
        "    while True:\n",
        "      if check_game_state(nim):\n",
        "        print(f\"Current state of the game for {which_player} -> RED - {nim['red']}, BLUE - {nim['blue']}\")\n",
        "        # marbles = input('select a pile R/B - ').upper() if which_player == 'human' else std_minimax(nim, depth=0, maximizingPlayer=True if player_turn % 2 == 0 else False)\n",
        "        marbles = input('select a pile R/B - ').upper() if which_player == 'human' else comp_move(nim, depth) # if player_turn % 2 == 0 else False)\n",
        "        if player_turn % 2 == 0:\n",
        "          which_player = players[1]\n",
        "          game_play(nim, num_red, num_blue, marbles)\n",
        "        else:\n",
        "          which_player = players[0]\n",
        "          game_play(nim, num_red, num_blue, marbles)\n",
        "      else:\n",
        "        if nim['red'] < 1 or nim['blue'] < 1:\n",
        "          print(f\"Current state of the game for {which_player} -> RED - {nim['red']}, BLUE - {nim['blue']}\")\n",
        "          print(f\"{which_player} WON with {nim['red']*2 + nim['blue']*3} points\")\n",
        "        break\n",
        "      player_turn += 1"
      ],
      "metadata": {
        "id": "RE8rfmAnz4mK"
      },
      "execution_count": 3,
      "outputs": []
    },
    {
      "cell_type": "code",
      "source": [],
      "metadata": {
        "id": "p0NBE3jL0TXY"
      },
      "execution_count": null,
      "outputs": []
    },
    {
      "cell_type": "markdown",
      "source": [
        "# This is working but need to work more to get more promising results"
      ],
      "metadata": {
        "id": "7oWDAci416Hz"
      }
    },
    {
      "cell_type": "code",
      "source": [
        "def ytminmax(piles, depth, alpha, beta, maximizing_player):\n",
        "  if depth == 0 or (piles[0] == 0 or piles[1]) == 0:\n",
        "    return piles[0] ^ piles[1]\n",
        "\n",
        "  r, b = piles[0], piles[1]\n",
        "    \n",
        "  if maximizing_player:\n",
        "    max_eval = -math.inf\n",
        "    nr, nb = r, b\n",
        "    while nr > 0 and nb > 0:\n",
        "      if nr % 2 == 0:\n",
        "        eval = ytminmax([nr - 1, nb], depth - 1, alpha, beta, False)\n",
        "        max_eval = max(max_eval, eval)\n",
        "        alpha = max(alpha, eval)\n",
        "        if beta <= alpha:\n",
        "          break\n",
        "        return max_eval\n",
        "      elif nb % 2 == 0:\n",
        "        eval = ytminmax([nr, nb - 1], depth - 1, alpha, beta, False)\n",
        "        max_eval = max(max_eval, eval)\n",
        "        alpha = max(alpha, eval)\n",
        "        if beta <= alpha:\n",
        "          break\n",
        "        return max_eval\n",
        "      else:\n",
        "        eval = ytminmax([nr - 1, nb], depth - 1, alpha, beta, False) if nr > nb else ytminmax([nr, nb - 1], depth - 1, alpha, beta, False)\n",
        "        max_eval = max(max_eval, eval)\n",
        "        alpha = max(alpha, eval)\n",
        "        if beta <= alpha:\n",
        "          break\n",
        "        return max_eval\n",
        "\n",
        "  else:    \n",
        "    print(f'in False - {piles}, {depth}, {alpha}, {beta}')\n",
        "    min_eval = math.inf\n",
        "    nr, nb = r, b\n",
        "    while nr > 0 and nb > 0:\n",
        "      if nr % 2 == 0:\n",
        "        eval = ytminmax([nr - 1, nb], depth - 1, alpha, beta, True)\n",
        "        min_eval = min(min_eval, eval)\n",
        "        beta = min(beta, eval)\n",
        "        if beta <= alpha:\n",
        "          break\n",
        "        return min_eval\n",
        "      elif nb % 2 == 0:\n",
        "        eval = ytminmax([nr, nb - 1], depth - 1, alpha, beta, True)\n",
        "        min_eval = min(min_eval, eval)\n",
        "        beta = min(beta, eval)\n",
        "        if beta <= alpha:\n",
        "          break\n",
        "        return min_eval\n",
        "      else:\n",
        "        eval = ytminmax([nr - 1, nb], depth - 1, alpha, beta, True) if nr > nb else ytminmax([nr, nb - 1], depth - 1, alpha, beta, True)\n",
        "        min_eval = min(min_eval, eval)\n",
        "        beta = min(beta, eval)\n",
        "        if beta <= alpha:\n",
        "          break\n",
        "        return min_eval\n",
        "    # return min_eval"
      ],
      "metadata": {
        "id": "iWDk9A0Nz4uJ"
      },
      "execution_count": 13,
      "outputs": []
    },
    {
      "cell_type": "code",
      "source": [
        "def comp_move(nim, depth):\n",
        "  r, b = nim['red'], nim['blue']\n",
        "  alpha = -math.inf\n",
        "  beta = math.inf\n",
        "  nr, nb = r, b\n",
        "  maximizingPlayer=True\n",
        "  ax = ytminmax([nr - 1, nb], depth, alpha, beta, maximizingPlayer)\n",
        "  ay = ytminmax([nr, nb - 1], depth, alpha, beta, maximizingPlayer)\n",
        "  if ax < ay:\n",
        "    return 'R'\n",
        "  elif ax == 0 or ay == 0 or ax == ay:\n",
        "    return 'R' if r > b else 'B'\n",
        "  return 'B'"
      ],
      "metadata": {
        "id": "T51RagSN2BwE"
      },
      "execution_count": 5,
      "outputs": []
    },
    {
      "cell_type": "markdown",
      "source": [
        "## Test MiniMax algorith"
      ],
      "metadata": {
        "id": "FsfnKbom-sGc"
      }
    },
    {
      "cell_type": "code",
      "source": [
        "red = 4\n",
        "blue = 5\n",
        "nim = {'red': red, 'blue': blue}\n",
        "depth = 3\n",
        "alpha = -math.inf\n",
        "beta = math.inf\n",
        "maximizingPlayer = True\n",
        "max_eval = -math.inf\n",
        "best_move = -1\n",
        "piles = list(nim.values())\n",
        "print(ytminmax(piles, depth, alpha, beta, maximizingPlayer))"
      ],
      "metadata": {
        "colab": {
          "base_uri": "https://localhost:8080/"
        },
        "id": "MlxlHZ2Oz4vo",
        "outputId": "3819373f-d706-43a6-e7fd-1da308c87d86"
      },
      "execution_count": 10,
      "outputs": [
        {
          "output_type": "stream",
          "name": "stdout",
          "text": [
            "in False - [3, 5], 2, -inf, inf\n",
            "alpha - 0\n",
            "beta - 0\n",
            "alpha - 0\n",
            "0\n"
          ]
        }
      ]
    },
    {
      "cell_type": "markdown",
      "source": [
        "# Call here"
      ],
      "metadata": {
        "id": "cKadO7N__LsM"
      }
    },
    {
      "cell_type": "code",
      "source": [
        "red_blue_nim(4,3, 'computer')"
      ],
      "metadata": {
        "colab": {
          "base_uri": "https://localhost:8080/"
        },
        "id": "6pZFjqnM_PGu",
        "outputId": "12ba59ee-cca9-491e-8837-93cc212f0191"
      },
      "execution_count": 12,
      "outputs": [
        {
          "output_type": "stream",
          "name": "stdout",
          "text": [
            "Current state of the game for computer -> RED - 4, BLUE - 3\n",
            "Current state of the game for computer -> RED - 3, BLUE - 3\n",
            "Current state of the game for human -> RED - 3, BLUE - 2\n",
            "select a pile R/B - r\n",
            "Current state of the game for computer -> RED - 2, BLUE - 2\n",
            "Current state of the game for human -> RED - 2, BLUE - 1\n",
            "select a pile R/B - r\n",
            "Current state of the game for computer -> RED - 1, BLUE - 1\n",
            "Current state of the game for human -> RED - 1, BLUE - 0\n",
            "human WON with 2 points\n"
          ]
        }
      ]
    },
    {
      "cell_type": "code",
      "source": [],
      "metadata": {
        "id": "wA5TfXJk_LGE"
      },
      "execution_count": null,
      "outputs": []
    },
    {
      "cell_type": "markdown",
      "source": [
        "# Test"
      ],
      "metadata": {
        "id": "RQFxIuZS88uF"
      }
    },
    {
      "cell_type": "code",
      "source": [
        "def minimax(state, is_maximizer):\n",
        "  if (score := evaluate(state, is_maximizer)) is not None:\n",
        "    return score\n",
        "  return (max if is_maximizer else min)(minimax(new_state, is_maximizer=not is_maximizer) for new_state in possibleNewState(state))\n",
        "\n",
        "def best_move(state):\n",
        "  return max(\n",
        "      (minimax(new_state, is_maximizer=False), new_state) for new_state in possibleNewState(state)\n",
        "  )\n",
        "\n",
        "def possibleNewState(state):\n",
        "  return [state - take for take in [1] if take <= state]\n",
        "\n",
        "def evaluate(state, is_maximizer):\n",
        "  if state == 0:\n",
        "    return 1 if is_maximizer else -1"
      ],
      "metadata": {
        "id": "yiy8MdPW8-oJ"
      },
      "execution_count": 1,
      "outputs": []
    },
    {
      "cell_type": "code",
      "source": [],
      "metadata": {
        "id": "ueaLKyWh8_Pl"
      },
      "execution_count": null,
      "outputs": []
    }
  ]
}